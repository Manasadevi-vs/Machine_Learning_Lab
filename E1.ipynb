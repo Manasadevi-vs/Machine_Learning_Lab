{
 "cells": [
  {
   "cell_type": "code",
   "execution_count": 2,
   "id": "362e0ec8-10ba-4c36-b217-0c625c03ca1f",
   "metadata": {},
   "outputs": [
    {
     "name": "stdout",
     "output_type": "stream",
     "text": [
      "Matrix([[2*x], [4*y]])\n"
     ]
    }
   ],
   "source": [
    "import sympy as sp\n",
    "x,y=sp.symbols('x y')\n",
    "f=x**2+2*y**2\n",
    "grad=sp.Matrix([sp.diff(f,x),sp.diff(f,y)])\n",
    "print(grad)"
   ]
  },
  {
   "cell_type": "code",
   "execution_count": 3,
   "id": "37709bd3-cf78-45bc-8908-131bae77961a",
   "metadata": {},
   "outputs": [
    {
     "name": "stdout",
     "output_type": "stream",
     "text": [
      "Matrix([[2*x, z, y], [z, 2*y, x], [y, x, 2*z]])\n"
     ]
    }
   ],
   "source": [
    "import sympy as sp\n",
    "x,y,z=sp.symbols('x y z')\n",
    "f1=x**2+y*z\n",
    "f2=y**2+x*z\n",
    "f3=z**2+x*y\n",
    "vec=sp.Matrix([x,y,z])\n",
    "func=sp.Matrix([f1,f2,f3])\n",
    "J=func.jacobian(vec)\n",
    "print(J)"
   ]
  },
  {
   "cell_type": "code",
   "execution_count": 4,
   "id": "5b1af3b6-4ae6-4462-a471-b6860f5a5949",
   "metadata": {},
   "outputs": [
    {
     "name": "stdout",
     "output_type": "stream",
     "text": [
      "Eigenvalues:\n",
      "[ 1.61168440e+01 -1.11684397e+00 -3.38433605e-16]\n",
      "Eigenvectors:\n",
      "[[-0.23197069 -0.78583024  0.40824829]\n",
      " [-0.52532209 -0.08675134 -0.81649658]\n",
      " [-0.8186735   0.61232756  0.40824829]]\n"
     ]
    }
   ],
   "source": [
    "import numpy as np\n",
    "A=np.array([[1,2,3],[4,5,6],[7,8,9]])\n",
    "eigenvalues,eigenvectors=np.linalg.eig(A)\n",
    "print(\"Eigenvalues:\")\n",
    "print(eigenvalues)\n",
    "print(\"Eigenvectors:\")\n",
    "print(eigenvectors)"
   ]
  },
  {
   "cell_type": "code",
   "execution_count": 5,
   "id": "473c5784-919d-48f4-8350-d7129fdb7334",
   "metadata": {},
   "outputs": [
    {
     "name": "stdout",
     "output_type": "stream",
     "text": [
      "Singular Values:\n",
      "[1.68481034e+01 1.06836951e+00 3.33475287e-16]\n",
      "Left Singular vectors:\n",
      "[[-0.21483724  0.88723069  0.40824829]\n",
      " [-0.52058739  0.24964395 -0.81649658]\n",
      " [-0.82633754 -0.38794278  0.40824829]]\n",
      "Right Singular Vectors:\n",
      "[[-0.47967118 -0.57236779 -0.66506441]\n",
      " [-0.77669099 -0.07568647  0.62531805]\n",
      " [-0.40824829  0.81649658 -0.40824829]]\n"
     ]
    }
   ],
   "source": [
    "import numpy as np\n",
    "A=np.array([[1,2,3],[4,5,6],[7,8,9]])\n",
    "U,s,Vt=np.linalg.svd(A)\n",
    "print(\"Singular Values:\")\n",
    "print(s)\n",
    "print(\"Left Singular vectors:\")\n",
    "print(U)\n",
    "print(\"Right Singular Vectors:\")\n",
    "print(Vt)\n"
   ]
  },
  {
   "cell_type": "code",
   "execution_count": null,
   "id": "0be799af-858b-4940-b0e1-e7ec613112fc",
   "metadata": {},
   "outputs": [],
   "source": []
  }
 ],
 "metadata": {
  "kernelspec": {
   "display_name": "Python 3 (ipykernel)",
   "language": "python",
   "name": "python3"
  },
  "language_info": {
   "codemirror_mode": {
    "name": "ipython",
    "version": 3
   },
   "file_extension": ".py",
   "mimetype": "text/x-python",
   "name": "python",
   "nbconvert_exporter": "python",
   "pygments_lexer": "ipython3",
   "version": "3.12.7"
  }
 },
 "nbformat": 4,
 "nbformat_minor": 5
}
