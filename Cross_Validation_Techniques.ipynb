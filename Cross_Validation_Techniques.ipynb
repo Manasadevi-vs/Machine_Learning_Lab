{
 "cells": [
  {
   "cell_type": "code",
   "execution_count": 3,
   "id": "4324fe6e-8607-4e6f-b206-072f78a8eeaf",
   "metadata": {},
   "outputs": [],
   "source": [
    "from sklearn.datasets import load_iris\n",
    "from sklearn.model_selection import train_test_split, KFold, StratifiedKFold, LeaveOneOut, cross_val_score\n",
    "from sklearn.linear_model import LogisticRegression\n",
    "import numpy as np"
   ]
  },
  {
   "cell_type": "code",
   "execution_count": 4,
   "id": "08434918-6355-4490-8db4-1b50fd0c5e73",
   "metadata": {},
   "outputs": [],
   "source": [
    "iris = load_iris()\n",
    "X, y = iris.data, iris.target\n",
    "X_train, X_test, y_train, y_test = train_test_split(\n",
    " X, y, test_size=0.3, random_state=0, stratify=y\n",
    ")\n"
   ]
  },
  {
   "cell_type": "code",
   "execution_count": 5,
   "id": "388abafc-ac9b-46b3-af86-42387e0c2e39",
   "metadata": {},
   "outputs": [
    {
     "name": "stdout",
     "output_type": "stream",
     "text": [
      "Holdout Accuracy: 1.0\n"
     ]
    }
   ],
   "source": [
    "model = LogisticRegression(max_iter=200)\n",
    "model.fit(X_train, y_train)\n",
    "print(\"Holdout Accuracy:\", model.score(X_test, y_test))"
   ]
  },
  {
   "cell_type": "code",
   "execution_count": 6,
   "id": "239f43a5-e4ec-4258-bd7e-b5790bf1dc33",
   "metadata": {},
   "outputs": [
    {
     "name": "stdout",
     "output_type": "stream",
     "text": [
      "K-Fold Mean Accuracy: 0.9533333333333334\n"
     ]
    }
   ],
   "source": [
    "kf = KFold(n_splits=5, shuffle=True, random_state=0)\n",
    "kf_scores = cross_val_score(model, X, y, cv=kf)\n",
    "print(\"K-Fold Mean Accuracy:\", np.mean(kf_scores))\n"
   ]
  },
  {
   "cell_type": "code",
   "execution_count": 7,
   "id": "cc1fe2cf-c0db-4587-b054-0306c80a1374",
   "metadata": {},
   "outputs": [
    {
     "name": "stdout",
     "output_type": "stream",
     "text": [
      "Stratified K-Fold Mean Accuracy: 0.96\n"
     ]
    }
   ],
   "source": [
    "skf = StratifiedKFold(n_splits=5, shuffle=True, random_state=0)\n",
    "skf_scores = cross_val_score(model, X, y, cv=skf)\n",
    "print(\"Stratified K-Fold Mean Accuracy:\", np.mean(skf_scores))"
   ]
  },
  {
   "cell_type": "code",
   "execution_count": 8,
   "id": "6d43232c-8ffc-4008-9e5e-853fda8bad2e",
   "metadata": {},
   "outputs": [
    {
     "name": "stdout",
     "output_type": "stream",
     "text": [
      "Leave-One-Out Mean Accuracy: 0.9666666666666667\n"
     ]
    }
   ],
   "source": [
    "loocv = LeaveOneOut()\n",
    "loocv_scores = cross_val_score(model, X, y, cv=loocv)\n",
    "print(\"Leave-One-Out Mean Accuracy:\", np.mean(loocv_scores))\n"
   ]
  },
  {
   "cell_type": "code",
   "execution_count": null,
   "id": "3422a9e6-f5f7-47c2-b876-28a3028f39c5",
   "metadata": {},
   "outputs": [],
   "source": []
  }
 ],
 "metadata": {
  "kernelspec": {
   "display_name": "Python 3 (ipykernel)",
   "language": "python",
   "name": "python3"
  },
  "language_info": {
   "codemirror_mode": {
    "name": "ipython",
    "version": 3
   },
   "file_extension": ".py",
   "mimetype": "text/x-python",
   "name": "python",
   "nbconvert_exporter": "python",
   "pygments_lexer": "ipython3",
   "version": "3.12.7"
  }
 },
 "nbformat": 4,
 "nbformat_minor": 5
}
